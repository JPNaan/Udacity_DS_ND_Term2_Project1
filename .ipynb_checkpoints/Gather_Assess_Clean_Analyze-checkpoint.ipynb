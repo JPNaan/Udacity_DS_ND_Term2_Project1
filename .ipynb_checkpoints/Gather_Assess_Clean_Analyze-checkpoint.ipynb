{
 "cells": [
  {
   "cell_type": "markdown",
   "metadata": {},
   "source": [
    "## Gathering, Assessing, Cleaning & Analyzing the data"
   ]
  },
  {
   "cell_type": "markdown",
   "metadata": {},
   "source": [
    "### Import "
   ]
  },
  {
   "cell_type": "code",
   "execution_count": 1,
   "metadata": {},
   "outputs": [],
   "source": [
    "import numpy as np\n",
    "import pandas as pd\n",
    "import matplotlib.pyplot as plt\n",
    "import seaborn as sns\n",
    "import datetime\n",
    "import sys\n",
    "\n",
    "%matplotlib inline\n",
    "pd.set_option('display.float_format', lambda x: '%.5f' % x)"
   ]
  },
  {
   "cell_type": "markdown",
   "metadata": {},
   "source": [
    "### Gather"
   ]
  },
  {
   "cell_type": "code",
   "execution_count": 2,
   "metadata": {},
   "outputs": [],
   "source": [
    "s_cal = pd.read_csv('./calendar.csv')\n",
    "s_list = pd.read_csv('./listings.csv')\n",
    "s_rev = pd.read_csv('./reviews.csv')"
   ]
  },
  {
   "cell_type": "markdown",
   "metadata": {},
   "source": [
    "### Assess"
   ]
  },
  {
   "cell_type": "markdown",
   "metadata": {},
   "source": [
    "#### Calendar File"
   ]
  },
  {
   "cell_type": "code",
   "execution_count": 3,
   "metadata": {},
   "outputs": [
    {
     "name": "stdout",
     "output_type": "stream",
     "text": [
      "Header: \n",
      "    listing_id        date available   price\n",
      "0      241032  2016-01-04         t  $85.00\n",
      "1      241032  2016-01-05         t  $85.00\n",
      "2      241032  2016-01-06         f     NaN\n",
      "3      241032  2016-01-07         f     NaN\n",
      "4      241032  2016-01-08         f     NaN\n",
      "Shape: \n",
      " (1393570, 4)\n",
      "Data Types: \n",
      " listing_id     int64\n",
      "date          object\n",
      "available     object\n",
      "price         object\n",
      "dtype: object\n"
     ]
    }
   ],
   "source": [
    "print('Header: \\n',s_cal.head())\n",
    "print('Shape: \\n',s_cal.shape)\n",
    "print('Data Types: \\n',s_cal.dtypes)    "
   ]
  },
  {
   "cell_type": "markdown",
   "metadata": {},
   "source": [
    "#### Listing File"
   ]
  },
  {
   "cell_type": "code",
   "execution_count": 4,
   "metadata": {},
   "outputs": [
    {
     "name": "stdout",
     "output_type": "stream",
     "text": [
      "Listing header: \n",
      "         id                           listing_url       scrape_id last_scraped  \\\n",
      "0   241032   https://www.airbnb.com/rooms/241032  20160104002432   2016-01-04   \n",
      "1   953595   https://www.airbnb.com/rooms/953595  20160104002432   2016-01-04   \n",
      "2  3308979  https://www.airbnb.com/rooms/3308979  20160104002432   2016-01-04   \n",
      "3  7421966  https://www.airbnb.com/rooms/7421966  20160104002432   2016-01-04   \n",
      "4   278830   https://www.airbnb.com/rooms/278830  20160104002432   2016-01-04   \n",
      "\n",
      "                                  name  \\\n",
      "0         Stylish Queen Anne Apartment   \n",
      "1   Bright & Airy Queen Anne Apartment   \n",
      "2  New Modern House-Amazing water view   \n",
      "3                   Queen Anne Chateau   \n",
      "4       Charming craftsman 3 bdm house   \n",
      "\n",
      "                                             summary  \\\n",
      "0                                                NaN   \n",
      "1  Chemically sensitive? We've removed the irrita...   \n",
      "2  New modern house built in 2013.  Spectacular s...   \n",
      "3  A charming apartment that sits atop Queen Anne...   \n",
      "4  Cozy family craftman house in beautiful neighb...   \n",
      "\n",
      "                                               space  \\\n",
      "0  Make your self at home in this charming one-be...   \n",
      "1  Beautiful, hypoallergenic apartment in an extr...   \n",
      "2  Our house is modern, light and fresh with a wa...   \n",
      "3                                                NaN   \n",
      "4  Cozy family craftman house in beautiful neighb...   \n",
      "\n",
      "                                         description experiences_offered  \\\n",
      "0  Make your self at home in this charming one-be...                none   \n",
      "1  Chemically sensitive? We've removed the irrita...                none   \n",
      "2  New modern house built in 2013.  Spectacular s...                none   \n",
      "3  A charming apartment that sits atop Queen Anne...                none   \n",
      "4  Cozy family craftman house in beautiful neighb...                none   \n",
      "\n",
      "                               neighborhood_overview  ... review_scores_value  \\\n",
      "0                                                NaN  ...            10.00000   \n",
      "1  Queen Anne is a wonderful, truly functional vi...  ...            10.00000   \n",
      "2  Upper Queen Anne is a charming neighborhood fu...  ...            10.00000   \n",
      "3                                                NaN  ...                 nan   \n",
      "4  We are in the beautiful neighborhood of Queen ...  ...             9.00000   \n",
      "\n",
      "  requires_license license jurisdiction_names instant_bookable  \\\n",
      "0                f     nan         WASHINGTON                f   \n",
      "1                f     nan         WASHINGTON                f   \n",
      "2                f     nan         WASHINGTON                f   \n",
      "3                f     nan         WASHINGTON                f   \n",
      "4                f     nan         WASHINGTON                f   \n",
      "\n",
      "  cancellation_policy  require_guest_profile_picture  \\\n",
      "0            moderate                              f   \n",
      "1              strict                              t   \n",
      "2              strict                              f   \n",
      "3            flexible                              f   \n",
      "4              strict                              f   \n",
      "\n",
      "  require_guest_phone_verification calculated_host_listings_count  \\\n",
      "0                                f                              2   \n",
      "1                                t                              6   \n",
      "2                                f                              2   \n",
      "3                                f                              1   \n",
      "4                                f                              1   \n",
      "\n",
      "  reviews_per_month  \n",
      "0           4.07000  \n",
      "1           1.48000  \n",
      "2           1.15000  \n",
      "3               nan  \n",
      "4           0.89000  \n",
      "\n",
      "[5 rows x 92 columns]\n",
      "Listing shape: \n",
      " (3818, 92)\n",
      "Number of unique listing id in the listing file: \n",
      " 3818\n",
      "Number of single value enteries: \n",
      " (array([ 2,  3,  8, 41, 43, 44, 67, 72, 83, 85], dtype=int64),)\n"
     ]
    }
   ],
   "source": [
    "print('Listing header: \\n',s_list.head())\n",
    "print('Listing shape: \\n',s_list.shape)\n",
    "print('Number of unique listing id in the listing file: \\n',s_list['id'].nunique())\n",
    "print('Number of single value enteries: \\n',np.where(s_list.nunique() == 1))"
   ]
  },
  {
   "cell_type": "code",
   "execution_count": 5,
   "metadata": {},
   "outputs": [
    {
     "name": "stdout",
     "output_type": "stream",
     "text": [
      "['Queen Anne' nan 'Ballard' 'Phinney Ridge' 'Fremont' 'Lower Queen Anne'\n",
      " 'Westlake' 'Wallingford' 'Green Lake' 'Minor' 'Madrona'\n",
      " 'Harrison/Denny-Blaine' 'Leschi' 'University District' 'Roosevelt'\n",
      " 'Madison Park' 'Capitol Hill' 'Atlantic' 'North Beacon Hill'\n",
      " 'Central Business District' 'Pike Place Market' 'Pike Market' 'Eastlake'\n",
      " 'Portage Bay' 'South Lake Union' 'Magnolia' 'Belltown'\n",
      " 'International District' 'Yesler Terrace' 'First Hill' 'Pioneer Square'\n",
      " 'Gatewood' 'The Junction' 'Arbor Heights' 'Alki' 'North Admiral'\n",
      " 'Crown Hill' 'Genesee' 'Fairmount Park' 'Interbay' 'Industrial District'\n",
      " 'Holly Park' 'South Beacon Hill' 'Greenwood' 'Bitter Lake' 'Fauntleroy'\n",
      " 'Mount Baker' 'Columbia City' 'Seward Park' 'Brighton' 'South Delridge'\n",
      " 'Highland Park' 'High Point' 'View Ridge' 'Windermere' 'Dunlap'\n",
      " 'Rainier Beach' 'North Delridge' 'Maple Leaf' 'Bryant' 'Ravenna'\n",
      " 'Wedgewood' 'Riverview' 'Montlake' 'Broadway' 'Stevens' 'Victory Heights'\n",
      " 'Mathews Beach' 'Cedar Park' 'Meadowbrook' 'Olympic Hills'\n",
      " 'North Beach/Blue Ridge' 'Broadview' 'Haller Lake' 'Pinehurst'\n",
      " 'Licton Springs' 'North College Park' 'Laurelhurst' 'Seaview'\n",
      " 'Georgetown' 'South Park' 'Roxhill']\n",
      "['West Queen Anne' 'Adams' 'West Woodland' 'East Queen Anne' 'Wallingford'\n",
      " 'North Queen Anne' 'Green Lake' 'Westlake' 'Mann' 'Madrona'\n",
      " 'University District' 'Harrison/Denny-Blaine' 'Minor' 'Leschi' 'Atlantic'\n",
      " 'Pike-Market' 'Eastlake' 'South Lake Union' 'Lawton Park' 'Briarcliff'\n",
      " 'Belltown' 'International District' 'Central Business District'\n",
      " 'First Hill' 'Yesler Terrace' 'Pioneer Square' 'Gatewood' 'Arbor Heights'\n",
      " 'Alki' 'North Admiral' 'Crown Hill' 'Fairmount Park' 'Genesee' 'Interbay'\n",
      " 'Industrial District' 'Mid-Beacon Hill' 'South Beacon Hill' 'Greenwood'\n",
      " 'Holly Park' 'Fauntleroy' 'North Beacon Hill' 'Mount Baker' 'Brighton'\n",
      " 'South Delridge' 'View Ridge' 'Dunlap' 'Rainier Beach' 'Columbia City'\n",
      " 'Seward Park' 'North Delridge' 'Maple Leaf' 'Ravenna' 'Riverview'\n",
      " 'Portage Bay' 'Bryant' 'Montlake' 'Broadway' 'Loyal Heights'\n",
      " 'Victory Heights' 'Matthews Beach' 'Whittier Heights' 'Meadowbrook'\n",
      " 'Olympic Hills' 'Roosevelt' 'Lower Queen Anne' 'Wedgwood'\n",
      " 'North Beach/Blue Ridge' 'Cedar Park' 'Bitter Lake' 'Sunset Hill'\n",
      " 'Haller Lake' 'Pinehurst' 'North College Park' 'Phinney Ridge'\n",
      " 'Windermere' 'Laurelhurst' 'Southeast Magnolia' 'High Point' 'Seaview'\n",
      " 'Georgetown' 'South Park' 'Roxhill' 'Highland Park' 'Madison Park'\n",
      " 'Stevens' 'Broadview' 'Fremont']\n",
      "['Queen Anne' 'Ballard' 'Other neighborhoods' 'Cascade' 'Central Area'\n",
      " 'University District' 'Downtown' 'Magnolia' 'West Seattle' 'Interbay'\n",
      " 'Beacon Hill' 'Rainier Valley' 'Delridge' 'Seward Park' 'Northgate'\n",
      " 'Capitol Hill' 'Lake City']\n",
      "Bed type:  ['Real Bed' 'Futon' 'Pull-out Sofa' 'Airbed' 'Couch']\n"
     ]
    }
   ],
   "source": [
    "# Explore the neighborhood and bed type options\n",
    "print(s_list['neighbourhood'].unique())\n",
    "print(s_list['neighbourhood_cleansed'].unique())\n",
    "print(s_list['neighbourhood_group_cleansed'].unique())\n",
    "print('Bed type: ', s_list['bed_type'].unique())"
   ]
  },
  {
   "cell_type": "code",
   "execution_count": 6,
   "metadata": {},
   "outputs": [
    {
     "name": "stdout",
     "output_type": "stream",
     "text": [
      "id                                    int64\n",
      "listing_url                          object\n",
      "scrape_id                             int64\n",
      "last_scraped                         object\n",
      "name                                 object\n",
      "summary                              object\n",
      "space                                object\n",
      "description                          object\n",
      "experiences_offered                  object\n",
      "neighborhood_overview                object\n",
      "notes                                object\n",
      "transit                              object\n",
      "thumbnail_url                        object\n",
      "medium_url                           object\n",
      "picture_url                          object\n",
      "xl_picture_url                       object\n",
      "host_id                               int64\n",
      "host_url                             object\n",
      "host_name                            object\n",
      "host_since                           object\n",
      "host_location                        object\n",
      "host_about                           object\n",
      "host_response_time                   object\n",
      "host_response_rate                   object\n",
      "host_acceptance_rate                 object\n",
      "host_is_superhost                    object\n",
      "host_thumbnail_url                   object\n",
      "host_picture_url                     object\n",
      "host_neighbourhood                   object\n",
      "host_listings_count                 float64\n",
      "                                     ...   \n",
      "guests_included                       int64\n",
      "extra_people                         object\n",
      "minimum_nights                        int64\n",
      "maximum_nights                        int64\n",
      "calendar_updated                     object\n",
      "has_availability                     object\n",
      "availability_30                       int64\n",
      "availability_60                       int64\n",
      "availability_90                       int64\n",
      "availability_365                      int64\n",
      "calendar_last_scraped                object\n",
      "number_of_reviews                     int64\n",
      "first_review                         object\n",
      "last_review                          object\n",
      "review_scores_rating                float64\n",
      "review_scores_accuracy              float64\n",
      "review_scores_cleanliness           float64\n",
      "review_scores_checkin               float64\n",
      "review_scores_communication         float64\n",
      "review_scores_location              float64\n",
      "review_scores_value                 float64\n",
      "requires_license                     object\n",
      "license                             float64\n",
      "jurisdiction_names                   object\n",
      "instant_bookable                     object\n",
      "cancellation_policy                  object\n",
      "require_guest_profile_picture        object\n",
      "require_guest_phone_verification     object\n",
      "calculated_host_listings_count        int64\n",
      "reviews_per_month                   float64\n",
      "Length: 92, dtype: object\n"
     ]
    }
   ],
   "source": [
    "#Review Datatypes\n",
    "print(s_list.dtypes)"
   ]
  },
  {
   "cell_type": "code",
   "execution_count": 7,
   "metadata": {},
   "outputs": [
    {
     "name": "stdout",
     "output_type": "stream",
     "text": [
      "            id                            listing_url       scrape_id  \\\n",
      "1297   8354452   https://www.airbnb.com/rooms/8354452  20160104002432   \n",
      "1419  10235014  https://www.airbnb.com/rooms/10235014  20160104002432   \n",
      "\n",
      "     last_scraped                                name  \\\n",
      "1297   2016-01-04   The View | Be Inspired in Seattle   \n",
      "1419   2016-01-04  Luxury Apartment in Belltown / SLU   \n",
      "\n",
      "                                                summary  \\\n",
      "1297  A studio with stunning waterfront view worth t...   \n",
      "1419  Beautiful building near the heart of downtown ...   \n",
      "\n",
      "                                                  space  \\\n",
      "1297  Looking for that perfect spot to take-in all o...   \n",
      "1419                                                NaN   \n",
      "\n",
      "                                            description experiences_offered  \\\n",
      "1297  A studio with stunning waterfront view worth t...                none   \n",
      "1419  Beautiful building near the heart of downtown ...                none   \n",
      "\n",
      "                                  neighborhood_overview  \\\n",
      "1297  This spot is in Belltown across the street fro...   \n",
      "1419                                                NaN   \n",
      "\n",
      "                                                  notes  \\\n",
      "1297  Please accept my apologies for not being able ...   \n",
      "1419                                                NaN   \n",
      "\n",
      "                                                transit  \\\n",
      "1297  Seattle has a lot of transportation options in...   \n",
      "1419                                                NaN   \n",
      "\n",
      "                                          thumbnail_url  \\\n",
      "1297  https://a2.muscache.com/ac/pictures/6d46a5de-9...   \n",
      "1419  https://a2.muscache.com/ac/pictures/2644576c-4...   \n",
      "\n",
      "                                             medium_url  \\\n",
      "1297  https://a2.muscache.com/im/pictures/6d46a5de-9...   \n",
      "1419  https://a2.muscache.com/im/pictures/2644576c-4...   \n",
      "\n",
      "                                            picture_url  \\\n",
      "1297  https://a2.muscache.com/ac/pictures/6d46a5de-9...   \n",
      "1419  https://a2.muscache.com/ac/pictures/2644576c-4...   \n",
      "\n",
      "                                         xl_picture_url   host_id  \\\n",
      "1297  https://a2.muscache.com/ac/pictures/6d46a5de-9...  42515980   \n",
      "1419  https://a2.muscache.com/ac/pictures/2644576c-4...   1075031   \n",
      "\n",
      "                                        host_url host_name host_since  \\\n",
      "1297  https://www.airbnb.com/users/show/42515980       NaN        NaN   \n",
      "1419   https://www.airbnb.com/users/show/1075031       NaN        NaN   \n",
      "\n",
      "     host_location host_about host_response_time host_response_rate  \\\n",
      "1297           NaN        NaN                NaN                NaN   \n",
      "1419           NaN        NaN                NaN                NaN   \n",
      "\n",
      "     host_acceptance_rate host_is_superhost host_thumbnail_url  \\\n",
      "1297                  NaN               NaN                NaN   \n",
      "1419                  NaN               NaN                NaN   \n",
      "\n",
      "     host_picture_url host_neighbourhood  host_listings_count  \\\n",
      "1297              NaN                NaN                  nan   \n",
      "1419              NaN                NaN                  nan   \n",
      "\n",
      "      host_total_listings_count host_verifications host_has_profile_pic  \\\n",
      "1297                        nan               None                  NaN   \n",
      "1419                        nan               None                  NaN   \n",
      "\n",
      "     host_identity_verified                                            street  \\\n",
      "1297                    NaN  Western Avenue, Seattle, WA 98121, United States   \n",
      "1419                    NaN      6th Avenue, Seattle, WA 98121, United States   \n",
      "\n",
      "     neighbourhood neighbourhood_cleansed neighbourhood_group_cleansed  \\\n",
      "1297      Belltown               Belltown                     Downtown   \n",
      "1419      Belltown               Belltown                     Downtown   \n",
      "\n",
      "         city state zipcode   market smart_location country_code  \\\n",
      "1297  Seattle    WA   98121  Seattle    Seattle, WA           US   \n",
      "1419  Seattle    WA   98121  Seattle    Seattle, WA           US   \n",
      "\n",
      "            country  latitude  longitude is_location_exact property_type  \\\n",
      "1297  United States  47.61670 -122.35397                 t     Apartment   \n",
      "1419  United States  47.61597 -122.34054                 t     Apartment   \n",
      "\n",
      "            room_type  accommodates  bathrooms  bedrooms    beds  bed_type  \\\n",
      "1297  Entire home/apt             2    1.00000   0.00000 1.00000  Real Bed   \n",
      "1419  Entire home/apt             2    1.00000   1.00000 1.00000  Real Bed   \n",
      "\n",
      "                                              amenities  square_feet    price  \\\n",
      "1297  {TV,Internet,\"Wireless Internet\",\"Air Conditio...          nan   $99.00   \n",
      "1419  {TV,\"Cable TV\",Internet,\"Wireless Internet\",\"A...          nan  $250.00   \n",
      "\n",
      "     weekly_price monthly_price security_deposit cleaning_fee  \\\n",
      "1297      $725.00           NaN              NaN       $25.00   \n",
      "1419    $1,200.00     $3,600.00              NaN          NaN   \n",
      "\n",
      "      guests_included extra_people  minimum_nights  maximum_nights  \\\n",
      "1297                1       $25.00               2              13   \n",
      "1419                1        $0.00               1            1125   \n",
      "\n",
      "     calendar_updated has_availability  availability_30  availability_60  \\\n",
      "1297     2 months ago                t               30               60   \n",
      "1419       a week ago                t                3                3   \n",
      "\n",
      "      availability_90  availability_365 calendar_last_scraped  \\\n",
      "1297               89                89            2016-01-04   \n",
      "1419                3                 3            2016-01-04   \n",
      "\n",
      "      number_of_reviews first_review last_review  review_scores_rating  \\\n",
      "1297                  0          NaN         NaN                   nan   \n",
      "1419                  0          NaN         NaN                   nan   \n",
      "\n",
      "      review_scores_accuracy  review_scores_cleanliness  \\\n",
      "1297                     nan                        nan   \n",
      "1419                     nan                        nan   \n",
      "\n",
      "      review_scores_checkin  review_scores_communication  \\\n",
      "1297                    nan                          nan   \n",
      "1419                    nan                          nan   \n",
      "\n",
      "      review_scores_location  review_scores_value requires_license  license  \\\n",
      "1297                     nan                  nan                f      nan   \n",
      "1419                     nan                  nan                f      nan   \n",
      "\n",
      "     jurisdiction_names instant_bookable cancellation_policy  \\\n",
      "1297         WASHINGTON                f            moderate   \n",
      "1419         WASHINGTON                f            flexible   \n",
      "\n",
      "     require_guest_profile_picture require_guest_phone_verification  \\\n",
      "1297                             f                                f   \n",
      "1419                             f                                f   \n",
      "\n",
      "      calculated_host_listings_count  reviews_per_month  \n",
      "1297                               1                nan  \n",
      "1419                               1                nan  \n"
     ]
    }
   ],
   "source": [
    "#Review Host listing count vs host total listing count\n",
    "\n",
    "with pd.option_context('display.max_columns', 92):\n",
    "    print(s_list.query('host_listings_count != host_total_listings_count'))"
   ]
  },
  {
   "cell_type": "code",
   "execution_count": 8,
   "metadata": {},
   "outputs": [
    {
     "name": "stdout",
     "output_type": "stream",
     "text": [
      "State values:  ['WA' 'wa']\n",
      "City values:  ['Ballard, Seattle' 'Phinney Ridge Seattle' 'Seattle' 'Seattle '\n",
      " 'West Seattle' 'seattle' '西雅图']\n",
      "Property type values:  ['Apartment' 'House' 'Cabin' 'Condominium' 'Camper/RV' 'Bungalow'\n",
      " 'Townhouse' 'Loft' 'Boat' 'Bed & Breakfast' 'Other' 'Dorm' 'Treehouse'\n",
      " 'Yurt' 'Chalet' 'Tent' nan]\n",
      "Room type values:  ['Entire home/apt' 'Private room' 'Shared room']\n",
      "Amenities values:  ['{\"Air Conditioning\",Kitchen,\"Free Parking on Premises\",\"Pets Allowed\",Heating,Washer,Dryer,\"Smoke Detector\",Essentials,Shampoo,\"Lock on Bedroom Door\",Hangers}'\n",
      " '{\"Cable TV\",\"Elevator in Building\",Heating,Washer,Dryer}'\n",
      " '{\"Cable TV\",\"Wireless Internet\",\"Air Conditioning\",\"Free Parking on Premises\",Breakfast,\"Pets live on this property\",Dog(s),\"Indoor Fireplace\",Heating,Washer,Dryer,\"Smoke Detector\",\"Carbon Monoxide Detector\",\"Fire Extinguisher\",Essentials,Shampoo}'\n",
      " ...\n",
      " '{TV,Pool,Kitchen,\"Pets Allowed\",Gym,\"Pets live on this property\",Dog(s),Cat(s),\"Elevator in Building\",\"Hot Tub\",\"Indoor Fireplace\",Heating,\"Family/Kid Friendly\",Washer,Dryer,Essentials,Hangers,Iron,\"Laptop Friendly Workspace\"}'\n",
      " '{TV,Pool,Kitchen,Heating,Washer,Dryer,\"Smoke Detector\",\"Carbon Monoxide Detector\",\"First Aid Kit\",\"Fire Extinguisher\",Essentials,Shampoo,Hangers,\"Hair Dryer\",Iron}'\n",
      " '{}']\n",
      "Bathroom values:  [1.  4.5 2.  3.5 1.5 2.5 3.  0.5 4.  0.  8.  nan 5. ]\n",
      "Bedrooms values:  [ 1.  5.  0.  3.  2.  6.  4. nan  7.]\n",
      "Beds values:  [ 1.  7.  2.  3. 15.  5.  4.  6.  9.  8. nan 10.]\n"
     ]
    }
   ],
   "source": [
    "#Explore some categorical values\n",
    "print('State values: ',np.unique(s_list['state']))\n",
    "print('City values: ',np.unique(s_list['city']))\n",
    "print('Property type values: ',s_list['property_type'].unique())\n",
    "print('Room type values: ',np.unique(s_list['room_type']))\n",
    "print('Amenities values: ',np.unique(s_list['amenities']))\n",
    "print('Bathroom values: ',s_list['bathrooms'].unique())\n",
    "print('Bedrooms values: ',s_list['bedrooms'].unique())\n",
    "print('Beds values: ', s_list['beds'].unique())"
   ]
  },
  {
   "cell_type": "code",
   "execution_count": 9,
   "metadata": {},
   "outputs": [
    {
     "name": "stdout",
     "output_type": "stream",
     "text": [
      "Review rating values [ 95.  96.  97.  nan  92.  99.  98. 100.  80.  85.  84.  88.  75.  90.\n",
      "  91.  94.  93.  77.  89.  71.  82.  87.  73.  83.  86.  76.  78.  66.\n",
      "  74.  60.  64.  70.  68.  72.  40.  79.  55.  20.  67.  57.  65.  53.\n",
      "  81.]\n",
      "Review accuracy values [10. nan  9.  8.  6.  7.  4.  2.]\n",
      "Review cleanliness values [10. nan  9.  8.  7.  6.  5.  4.  3.]\n",
      "Review checkin values [10. nan  9.  8.  7.  4.  6.  5.  2.]\n",
      "Review communication values [10. nan  9.  8.  6.  4.  7.  2.  5.]\n",
      "Review location values [ 9. 10. nan  8.  7.  4.  6.]\n",
      "Review value values [10. nan  9.  8.  7.  6.  4.  2.  5.]\n"
     ]
    }
   ],
   "source": [
    "# Explore values for reviews to ensure expectations\n",
    "print('Review rating values', s_list['review_scores_rating'].unique())\n",
    "print('Review accuracy values', s_list['review_scores_accuracy'].unique())\n",
    "print('Review cleanliness values', s_list['review_scores_cleanliness'].unique())\n",
    "print('Review checkin values', s_list['review_scores_checkin'].unique())\n",
    "print('Review communication values', s_list['review_scores_communication'].unique())\n",
    "print('Review location values', s_list['review_scores_location'].unique())\n",
    "print('Review value values', s_list['review_scores_value'].unique())"
   ]
  },
  {
   "cell_type": "code",
   "execution_count": 10,
   "metadata": {},
   "outputs": [
    {
     "data": {
      "text/plain": [
       "array([nan, '$100.00', '$1,000.00', '$700.00', '$150.00', '$500.00',\n",
       "       '$300.00', '$400.00', '$1,500.00', '$250.00', '$200.00', '$750.00',\n",
       "       '$140.00', '$350.00', '$600.00', '$95.00', '$5,000.00', '$125.00',\n",
       "       '$800.00', '$499.00', '$399.00', '$450.00', '$995.00', '$2,500.00',\n",
       "       '$175.00', '$225.00', '$550.00', '$115.00', '$120.00', '$99.00',\n",
       "       '$149.00', '$780.00', '$2,000.00', '$1,200.00', '$360.00',\n",
       "       '$375.00', '$199.00', '$109.00', '$449.00', '$195.00', '$295.00',\n",
       "       '$185.00', '$134.00', '$650.00', '$180.00', '$1,900.00', '$220.00'],\n",
       "      dtype=object)"
      ]
     },
     "execution_count": 10,
     "metadata": {},
     "output_type": "execute_result"
    }
   ],
   "source": [
    "s_list['security_deposit'].unique()"
   ]
  },
  {
   "cell_type": "markdown",
   "metadata": {},
   "source": [
    "#### Review Files"
   ]
  },
  {
   "cell_type": "code",
   "execution_count": 11,
   "metadata": {},
   "outputs": [
    {
     "name": "stdout",
     "output_type": "stream",
     "text": [
      "reveiw file header: \n",
      "    listing_id        id        date  reviewer_id reviewer_name  \\\n",
      "0     7202016  38917982  2015-07-19     28943674        Bianca   \n",
      "1     7202016  39087409  2015-07-20     32440555         Frank   \n",
      "2     7202016  39820030  2015-07-26     37722850           Ian   \n",
      "3     7202016  40813543  2015-08-02     33671805        George   \n",
      "4     7202016  41986501  2015-08-10     34959538          Ming   \n",
      "\n",
      "                                            comments  \n",
      "0  Cute and cozy place. Perfect location to every...  \n",
      "1  Kelly has a great room in a very central locat...  \n",
      "2  Very spacious apartment, and in a great neighb...  \n",
      "3  Close to Seattle Center and all it has to offe...  \n",
      "4  Kelly was a great host and very accommodating ...  \n",
      "review file dtypes: \n",
      " listing_id        int64\n",
      "id                int64\n",
      "date             object\n",
      "reviewer_id       int64\n",
      "reviewer_name    object\n",
      "comments         object\n",
      "dtype: object\n"
     ]
    }
   ],
   "source": [
    "print('reveiw file header: \\n',s_rev.head())\n",
    "print('review file dtypes: \\n',s_rev.dtypes)\n"
   ]
  },
  {
   "cell_type": "markdown",
   "metadata": {},
   "source": [
    "### Clean "
   ]
  },
  {
   "cell_type": "markdown",
   "metadata": {},
   "source": [
    "#### Calendar Data"
   ]
  },
  {
   "cell_type": "code",
   "execution_count": 12,
   "metadata": {},
   "outputs": [
    {
     "name": "stderr",
     "output_type": "stream",
     "text": [
      "C:\\Users\\johnp\\Anaconda3\\lib\\site-packages\\ipykernel_launcher.py:10: SettingWithCopyWarning: \n",
      "A value is trying to be set on a copy of a slice from a DataFrame.\n",
      "Try using .loc[row_indexer,col_indexer] = value instead\n",
      "\n",
      "See the caveats in the documentation: http://pandas.pydata.org/pandas-docs/stable/indexing.html#indexing-view-versus-copy\n",
      "  # Remove the CWD from sys.path while we load stuff.\n"
     ]
    }
   ],
   "source": [
    "#Cleaned calendar datatypes\n",
    "s_cal['date'] = pd.to_datetime((s_cal['date'])) # make date into datetime\n",
    "s_cal['price'] = s_cal['price'].replace({'\\$':'',',':''}, regex=True).astype(float)  # make price numerical\n",
    "\n",
    "#Cleaned calendar price data\n",
    "s_cal_null= s_cal.dropna(subset=['price'],axis=0)  # remove rows with null price\n",
    "\n",
    "#Cleaned availability data\n",
    "s_cal_avail = s_cal[['listing_id','available']]\n",
    "s_cal_avail['available'] = s_cal_avail['available'].map({'t': 0, 'f': 1})\n",
    "s_cal_avail = s_cal_avail[['listing_id','available']].groupby('listing_id').sum()\n",
    "s_cal_avail['available'] = s_cal_avail['available']/365\n",
    "s_cal_avail = s_cal_avail.rename(columns={'available':'prop_booked'})"
   ]
  },
  {
   "cell_type": "markdown",
   "metadata": {},
   "source": [
    "#### Listing Data"
   ]
  },
  {
   "cell_type": "code",
   "execution_count": 13,
   "metadata": {},
   "outputs": [],
   "source": [
    "s_list_red = s_list.drop(s_list.columns[np.where(s_list.nunique() == 1)], axis=1) #remove columns with only on value\n",
    "s_list_red = s_list_red.dropna(how = 'all', axis = 1) #remove columns with all nuls\n",
    "s_list_red['price'] = s_list_red['price'].replace({'\\$':'',',':''}, regex=True).astype(float)  # make price numerical"
   ]
  },
  {
   "cell_type": "code",
   "execution_count": 14,
   "metadata": {},
   "outputs": [
    {
     "name": "stdout",
     "output_type": "stream",
     "text": [
      "41\n"
     ]
    },
    {
     "name": "stderr",
     "output_type": "stream",
     "text": [
      "C:\\Users\\johnp\\Anaconda3\\lib\\site-packages\\ipykernel_launcher.py:23: UserWarning: This pattern has match groups. To actually get the groups, use str.extract.\n",
      "C:\\Users\\johnp\\Anaconda3\\lib\\site-packages\\ipykernel_launcher.py:23: UserWarning: This pattern has match groups. To actually get the groups, use str.extract.\n",
      "C:\\Users\\johnp\\Anaconda3\\lib\\site-packages\\ipykernel_launcher.py:23: UserWarning: This pattern has match groups. To actually get the groups, use str.extract.\n"
     ]
    }
   ],
   "source": [
    "#Establish a discrete list of amenities\n",
    "amenities = s_list['amenities'].tolist()\n",
    "amenities = ''.join(amenities)\n",
    "amenities = amenities.replace(\"}\",',')\n",
    "amenities = amenities.replace('{','')\n",
    "amenities = amenities.replace('\"','')\n",
    "\n",
    "#print(amenities)\n",
    "options = {}\n",
    "options_name = []\n",
    "for item in amenities.split(','):\n",
    "    name = item.lower()\n",
    "    if item not in options:\n",
    "        options.update({item:name})\n",
    "        #options_name.append(name)\n",
    "        \n",
    "del options['']\n",
    "print(len(options))\n",
    "options\n",
    "\n",
    "#Add amenities into dataframe\n",
    "for item in options:\n",
    "    s_list[options[item]] = s_list['amenities'].str.contains(item)\n",
    "    \n"
   ]
  },
  {
   "cell_type": "markdown",
   "metadata": {},
   "source": [
    "#### Review Data"
   ]
  },
  {
   "cell_type": "code",
   "execution_count": 15,
   "metadata": {},
   "outputs": [],
   "source": [
    "s_rev['date'] = pd.to_datetime((s_rev['date'])) # make date into datetime"
   ]
  },
  {
   "cell_type": "code",
   "execution_count": 16,
   "metadata": {},
   "outputs": [
    {
     "name": "stderr",
     "output_type": "stream",
     "text": [
      "C:\\Users\\johnp\\Anaconda3\\lib\\site-packages\\ipykernel_launcher.py:3: SettingWithCopyWarning: \n",
      "A value is trying to be set on a copy of a slice from a DataFrame.\n",
      "Try using .loc[row_indexer,col_indexer] = value instead\n",
      "\n",
      "See the caveats in the documentation: http://pandas.pydata.org/pandas-docs/stable/indexing.html#indexing-view-versus-copy\n",
      "  This is separate from the ipykernel package so we can avoid doing imports until\n"
     ]
    }
   ],
   "source": [
    "#Create a table of number of times reviewed\n",
    "s_rev_no = s_rev[['listing_id','reviewer_id']]\n",
    "s_rev_no['reviewer_id'] = 1\n",
    "s_rev_no = s_rev_no[['listing_id','reviewer_id']].groupby('listing_id').sum()\n",
    "s_rev_no = s_rev_no.rename(columns={'reviewer_id':'no_reviews'})"
   ]
  },
  {
   "cell_type": "markdown",
   "metadata": {},
   "source": [
    "### Analyze"
   ]
  },
  {
   "cell_type": "markdown",
   "metadata": {},
   "source": [
    "#### Calendar Data"
   ]
  },
  {
   "cell_type": "code",
   "execution_count": 17,
   "metadata": {},
   "outputs": [
    {
     "data": {
      "text/html": [
       "<div>\n",
       "<style scoped>\n",
       "    .dataframe tbody tr th:only-of-type {\n",
       "        vertical-align: middle;\n",
       "    }\n",
       "\n",
       "    .dataframe tbody tr th {\n",
       "        vertical-align: top;\n",
       "    }\n",
       "\n",
       "    .dataframe thead th {\n",
       "        text-align: right;\n",
       "    }\n",
       "</style>\n",
       "<table border=\"1\" class=\"dataframe\">\n",
       "  <thead>\n",
       "    <tr style=\"text-align: right;\">\n",
       "      <th></th>\n",
       "      <th>listing_id</th>\n",
       "      <th>date</th>\n",
       "      <th>available</th>\n",
       "      <th>price</th>\n",
       "    </tr>\n",
       "  </thead>\n",
       "  <tbody>\n",
       "    <tr>\n",
       "      <th>count</th>\n",
       "      <td>1393570.00000</td>\n",
       "      <td>1393570</td>\n",
       "      <td>1393570</td>\n",
       "      <td>934542.00000</td>\n",
       "    </tr>\n",
       "    <tr>\n",
       "      <th>unique</th>\n",
       "      <td>nan</td>\n",
       "      <td>365</td>\n",
       "      <td>2</td>\n",
       "      <td>nan</td>\n",
       "    </tr>\n",
       "    <tr>\n",
       "      <th>top</th>\n",
       "      <td>nan</td>\n",
       "      <td>2016-12-27 00:00:00</td>\n",
       "      <td>t</td>\n",
       "      <td>nan</td>\n",
       "    </tr>\n",
       "    <tr>\n",
       "      <th>freq</th>\n",
       "      <td>nan</td>\n",
       "      <td>3818</td>\n",
       "      <td>934542</td>\n",
       "      <td>nan</td>\n",
       "    </tr>\n",
       "    <tr>\n",
       "      <th>first</th>\n",
       "      <td>nan</td>\n",
       "      <td>2016-01-04 00:00:00</td>\n",
       "      <td>NaN</td>\n",
       "      <td>nan</td>\n",
       "    </tr>\n",
       "    <tr>\n",
       "      <th>last</th>\n",
       "      <td>nan</td>\n",
       "      <td>2017-01-02 00:00:00</td>\n",
       "      <td>NaN</td>\n",
       "      <td>nan</td>\n",
       "    </tr>\n",
       "    <tr>\n",
       "      <th>mean</th>\n",
       "      <td>5550111.41854</td>\n",
       "      <td>NaN</td>\n",
       "      <td>NaN</td>\n",
       "      <td>137.94486</td>\n",
       "    </tr>\n",
       "    <tr>\n",
       "      <th>std</th>\n",
       "      <td>2962273.53007</td>\n",
       "      <td>NaN</td>\n",
       "      <td>NaN</td>\n",
       "      <td>105.06287</td>\n",
       "    </tr>\n",
       "    <tr>\n",
       "      <th>min</th>\n",
       "      <td>3335.00000</td>\n",
       "      <td>NaN</td>\n",
       "      <td>NaN</td>\n",
       "      <td>10.00000</td>\n",
       "    </tr>\n",
       "    <tr>\n",
       "      <th>25%</th>\n",
       "      <td>3258213.00000</td>\n",
       "      <td>NaN</td>\n",
       "      <td>NaN</td>\n",
       "      <td>75.00000</td>\n",
       "    </tr>\n",
       "    <tr>\n",
       "      <th>50%</th>\n",
       "      <td>6118244.50000</td>\n",
       "      <td>NaN</td>\n",
       "      <td>NaN</td>\n",
       "      <td>109.00000</td>\n",
       "    </tr>\n",
       "    <tr>\n",
       "      <th>75%</th>\n",
       "      <td>8035212.00000</td>\n",
       "      <td>NaN</td>\n",
       "      <td>NaN</td>\n",
       "      <td>160.00000</td>\n",
       "    </tr>\n",
       "    <tr>\n",
       "      <th>max</th>\n",
       "      <td>10340165.00000</td>\n",
       "      <td>NaN</td>\n",
       "      <td>NaN</td>\n",
       "      <td>1650.00000</td>\n",
       "    </tr>\n",
       "  </tbody>\n",
       "</table>\n",
       "</div>"
      ],
      "text/plain": [
       "           listing_id                 date available        price\n",
       "count   1393570.00000              1393570   1393570 934542.00000\n",
       "unique            nan                  365         2          nan\n",
       "top               nan  2016-12-27 00:00:00         t          nan\n",
       "freq              nan                 3818    934542          nan\n",
       "first             nan  2016-01-04 00:00:00       NaN          nan\n",
       "last              nan  2017-01-02 00:00:00       NaN          nan\n",
       "mean    5550111.41854                  NaN       NaN    137.94486\n",
       "std     2962273.53007                  NaN       NaN    105.06287\n",
       "min        3335.00000                  NaN       NaN     10.00000\n",
       "25%     3258213.00000                  NaN       NaN     75.00000\n",
       "50%     6118244.50000                  NaN       NaN    109.00000\n",
       "75%     8035212.00000                  NaN       NaN    160.00000\n",
       "max    10340165.00000                  NaN       NaN   1650.00000"
      ]
     },
     "execution_count": 17,
     "metadata": {},
     "output_type": "execute_result"
    }
   ],
   "source": [
    "#original calendar file:\n",
    "s_cal.describe(include='all')"
   ]
  },
  {
   "cell_type": "code",
   "execution_count": 18,
   "metadata": {},
   "outputs": [
    {
     "data": {
      "text/html": [
       "<div>\n",
       "<style scoped>\n",
       "    .dataframe tbody tr th:only-of-type {\n",
       "        vertical-align: middle;\n",
       "    }\n",
       "\n",
       "    .dataframe tbody tr th {\n",
       "        vertical-align: top;\n",
       "    }\n",
       "\n",
       "    .dataframe thead th {\n",
       "        text-align: right;\n",
       "    }\n",
       "</style>\n",
       "<table border=\"1\" class=\"dataframe\">\n",
       "  <thead>\n",
       "    <tr style=\"text-align: right;\">\n",
       "      <th></th>\n",
       "      <th>listing_id</th>\n",
       "      <th>date</th>\n",
       "      <th>available</th>\n",
       "      <th>price</th>\n",
       "    </tr>\n",
       "  </thead>\n",
       "  <tbody>\n",
       "    <tr>\n",
       "      <th>count</th>\n",
       "      <td>934542.00000</td>\n",
       "      <td>934542</td>\n",
       "      <td>934542</td>\n",
       "      <td>934542.00000</td>\n",
       "    </tr>\n",
       "    <tr>\n",
       "      <th>unique</th>\n",
       "      <td>nan</td>\n",
       "      <td>365</td>\n",
       "      <td>1</td>\n",
       "      <td>nan</td>\n",
       "    </tr>\n",
       "    <tr>\n",
       "      <th>top</th>\n",
       "      <td>nan</td>\n",
       "      <td>2017-01-01 00:00:00</td>\n",
       "      <td>t</td>\n",
       "      <td>nan</td>\n",
       "    </tr>\n",
       "    <tr>\n",
       "      <th>freq</th>\n",
       "      <td>nan</td>\n",
       "      <td>2922</td>\n",
       "      <td>934542</td>\n",
       "      <td>nan</td>\n",
       "    </tr>\n",
       "    <tr>\n",
       "      <th>first</th>\n",
       "      <td>nan</td>\n",
       "      <td>2016-01-04 00:00:00</td>\n",
       "      <td>NaN</td>\n",
       "      <td>nan</td>\n",
       "    </tr>\n",
       "    <tr>\n",
       "      <th>last</th>\n",
       "      <td>nan</td>\n",
       "      <td>2017-01-02 00:00:00</td>\n",
       "      <td>NaN</td>\n",
       "      <td>nan</td>\n",
       "    </tr>\n",
       "    <tr>\n",
       "      <th>mean</th>\n",
       "      <td>5305517.15427</td>\n",
       "      <td>NaN</td>\n",
       "      <td>NaN</td>\n",
       "      <td>137.94486</td>\n",
       "    </tr>\n",
       "    <tr>\n",
       "      <th>std</th>\n",
       "      <td>2974820.85015</td>\n",
       "      <td>NaN</td>\n",
       "      <td>NaN</td>\n",
       "      <td>105.06287</td>\n",
       "    </tr>\n",
       "    <tr>\n",
       "      <th>min</th>\n",
       "      <td>3335.00000</td>\n",
       "      <td>NaN</td>\n",
       "      <td>NaN</td>\n",
       "      <td>10.00000</td>\n",
       "    </tr>\n",
       "    <tr>\n",
       "      <th>25%</th>\n",
       "      <td>2875975.00000</td>\n",
       "      <td>NaN</td>\n",
       "      <td>NaN</td>\n",
       "      <td>75.00000</td>\n",
       "    </tr>\n",
       "    <tr>\n",
       "      <th>50%</th>\n",
       "      <td>5615620.00000</td>\n",
       "      <td>NaN</td>\n",
       "      <td>NaN</td>\n",
       "      <td>109.00000</td>\n",
       "    </tr>\n",
       "    <tr>\n",
       "      <th>75%</th>\n",
       "      <td>7873345.00000</td>\n",
       "      <td>NaN</td>\n",
       "      <td>NaN</td>\n",
       "      <td>160.00000</td>\n",
       "    </tr>\n",
       "    <tr>\n",
       "      <th>max</th>\n",
       "      <td>10340165.00000</td>\n",
       "      <td>NaN</td>\n",
       "      <td>NaN</td>\n",
       "      <td>1650.00000</td>\n",
       "    </tr>\n",
       "  </tbody>\n",
       "</table>\n",
       "</div>"
      ],
      "text/plain": [
       "           listing_id                 date available        price\n",
       "count    934542.00000               934542    934542 934542.00000\n",
       "unique            nan                  365         1          nan\n",
       "top               nan  2017-01-01 00:00:00         t          nan\n",
       "freq              nan                 2922    934542          nan\n",
       "first             nan  2016-01-04 00:00:00       NaN          nan\n",
       "last              nan  2017-01-02 00:00:00       NaN          nan\n",
       "mean    5305517.15427                  NaN       NaN    137.94486\n",
       "std     2974820.85015                  NaN       NaN    105.06287\n",
       "min        3335.00000                  NaN       NaN     10.00000\n",
       "25%     2875975.00000                  NaN       NaN     75.00000\n",
       "50%     5615620.00000                  NaN       NaN    109.00000\n",
       "75%     7873345.00000                  NaN       NaN    160.00000\n",
       "max    10340165.00000                  NaN       NaN   1650.00000"
      ]
     },
     "execution_count": 18,
     "metadata": {},
     "output_type": "execute_result"
    }
   ],
   "source": [
    "#Calendar file with null price records removed\n",
    "s_cal_null.describe(include='all')"
   ]
  },
  {
   "cell_type": "code",
   "execution_count": 19,
   "metadata": {},
   "outputs": [
    {
     "name": "stdout",
     "output_type": "stream",
     "text": [
      "Total number of null price:   459028\n",
      "Proportion of null price:   0.32938998399793334\n",
      "Total number containing price:  934542\n"
     ]
    }
   ],
   "source": [
    "print('Total number of null price:  ',(s_cal.shape[0]-s_cal['price'].count()))\n",
    "print('Proportion of null price:  ',(s_cal.shape[0]-s_cal['price'].count())/s_cal.shape[0])\n",
    "print('Total number containing price: ',(s_cal_null.shape[0]))"
   ]
  },
  {
   "cell_type": "code",
   "execution_count": 20,
   "metadata": {},
   "outputs": [
    {
     "data": {
      "text/plain": [
       "<matplotlib.axes._subplots.AxesSubplot at 0x1ed71581860>"
      ]
     },
     "execution_count": 20,
     "metadata": {},
     "output_type": "execute_result"
    },
    {
     "data": {
      "image/png": "[encoded data removed]",
      "text/plain": [
       "<Figure size 432x288 with 1 Axes>"
      ]
     },
     "metadata": {
      "needs_background": "light"
     },
     "output_type": "display_data"
    }
   ],
   "source": [
    "s_cal_null['price'].hist(bins=50) #distribution of price records with null price removed"
   ]
  },
  {
   "cell_type": "code",
   "execution_count": 21,
   "metadata": {},
   "outputs": [
    {
     "name": "stdout",
     "output_type": "stream",
     "text": [
      "The mode of price:  150.0\n",
      "Proportion of price less than the mode:  0.48965534562311186\n"
     ]
    }
   ],
   "source": [
    "print('The mode of price: ', np.sum(s_cal['price'].mode()))\n",
    "print('Proportion of price less than the mode: ', np.sum(s_cal['price']<=np.sum(s_cal['price'].mode()))/s_cal.shape[0])"
   ]
  },
  {
   "cell_type": "code",
   "execution_count": 22,
   "metadata": {},
   "outputs": [
    {
     "name": "stdout",
     "output_type": "stream",
     "text": [
      "The mode of price excluding null rows:  150.0\n",
      "Proportion of price less than the mode excluding null rows:  0.7301640803730598\n",
      "Number of price less than the mode excluding null rows:  682369\n"
     ]
    }
   ],
   "source": [
    "print('The mode of price excluding null rows: ', np.sum(s_cal_null['price'].mode()))\n",
    "print('Proportion of price less than the mode excluding null rows: ', np.sum(s_cal_null['price']<=np.sum(s_cal_null['price'].mode()))/s_cal_null.shape[0])\n",
    "print('Number of price less than the mode excluding null rows: ', np.sum(s_cal_null['price']<=np.sum(s_cal_null['price'].mode())))"
   ]
  },
  {
   "cell_type": "code",
   "execution_count": 23,
   "metadata": {},
   "outputs": [
    {
     "data": {
      "text/plain": [
       "3818"
      ]
     },
     "execution_count": 23,
     "metadata": {},
     "output_type": "execute_result"
    }
   ],
   "source": [
    "s_cal['listing_id'].nunique() #how many unique listings are there"
   ]
  },
  {
   "cell_type": "code",
   "execution_count": 24,
   "metadata": {},
   "outputs": [
    {
     "data": {
      "text/plain": [
       "95"
      ]
     },
     "execution_count": 24,
     "metadata": {},
     "output_type": "execute_result"
    }
   ],
   "source": [
    "# Number of listings that were booked every day of the year.  \n",
    "#(note that 2016 was a leap year and so technically it is not a full year)\n",
    "\n",
    "len((np.where(s_cal_avail['prop_booked'] == 1))[0])"
   ]
  },
  {
   "cell_type": "code",
   "execution_count": 25,
   "metadata": {},
   "outputs": [
    {
     "data": {
      "text/plain": [
       "array([[<matplotlib.axes._subplots.AxesSubplot object at 0x000001ED0033BF28>]],\n",
       "      dtype=object)"
      ]
     },
     "execution_count": 25,
     "metadata": {},
     "output_type": "execute_result"
    },
    {
     "data": {
      "image/png": "[encoded data removed]",
      "text/plain": [
       "<Figure size 432x288 with 1 Axes>"
      ]
     },
     "metadata": {
      "needs_background": "light"
     },
     "output_type": "display_data"
    }
   ],
   "source": [
    "# histogram for the properties booked between 20% and 80% of the year\n",
    "s_cal_avail.query('prop_booked >= .2 & prop_booked <= .8').hist()"
   ]
  },
  {
   "cell_type": "code",
   "execution_count": 26,
   "metadata": {},
   "outputs": [
    {
     "name": "stdout",
     "output_type": "stream",
     "text": [
      "Calendar rows:  3818\n",
      "Less the below 20% and above 80%:  1256\n",
      "Expect the above to be : 1256\n"
     ]
    }
   ],
   "source": [
    "print('Calendar rows: ',s_cal_avail.shape[0])\n",
    "print('Less the below 20% and above 80%: ',s_cal_avail.drop(s_cal_avail.query('prop_booked < .2 or prop_booked > .8').index).shape[0])\n",
    "print('Expect the above to be :',s_cal_avail.query('prop_booked >= .2 & prop_booked <= .8').shape[0])"
   ]
  },
  {
   "cell_type": "markdown",
   "metadata": {},
   "source": [
    "##### Calendar file analysis summary:\n",
    "There are a total of 1,393,570 records within the calendar file representing 3818 unique bookings from 1/4/2016 to 1/2/2017.  Of these 459,028 (32.9%) did not contain a price.  Out of the remaining 934,542 records with price, 682,369 (73%) records were at or below the mode of $150.00."
   ]
  },
  {
   "cell_type": "markdown",
   "metadata": {},
   "source": [
    "#### Listing Data"
   ]
  },
  {
   "cell_type": "code",
   "execution_count": 27,
   "metadata": {},
   "outputs": [
    {
     "name": "stdout",
     "output_type": "stream",
     "text": [
      "Total number of Futon:  74\n",
      "Percent of cleanliness reviews:  0.023380726698262244\n"
     ]
    }
   ],
   "source": [
    "#How many bed types are Futon\n",
    "a = s_list.query('bed_type == \"Futon\"').shape[0]\n",
    "\n",
    "print('Total number of Futon: ',a) \n",
    "print('Percent of cleanliness reviews: ', a/(s_list.shape[0]-np.sum(s_list['review_scores_cleanliness'].isnull())))\n"
   ]
  },
  {
   "cell_type": "code",
   "execution_count": 28,
   "metadata": {},
   "outputs": [
    {
     "data": {
      "text/plain": [
       "<matplotlib.axes._subplots.AxesSubplot at 0x1ed003af048>"
      ]
     },
     "execution_count": 28,
     "metadata": {},
     "output_type": "execute_result"
    },
    {
     "data": {
      "image/png": "[encoded data removed]",
      "text/plain": [
       "<Figure size 432x288 with 1 Axes>"
      ]
     },
     "metadata": {
      "needs_background": "light"
     },
     "output_type": "display_data"
    }
   ],
   "source": [
    "#distriburion of overall review scores\n",
    "s_list_red['review_scores_rating'].hist(bins=25)"
   ]
  },
  {
   "cell_type": "code",
   "execution_count": 29,
   "metadata": {},
   "outputs": [
    {
     "name": "stdout",
     "output_type": "stream",
     "text": [
      "Price mode:  150.0\n"
     ]
    },
    {
     "data": {
      "text/plain": [
       "<matplotlib.axes._subplots.AxesSubplot at 0x1ed004aceb8>"
      ]
     },
     "execution_count": 29,
     "metadata": {},
     "output_type": "execute_result"
    },
    {
     "data": {
      "image/png": "[encoded data removed]",
      "text/plain": [
       "<Figure size 432x288 with 1 Axes>"
      ]
     },
     "metadata": {
      "needs_background": "light"
     },
     "output_type": "display_data"
    }
   ],
   "source": [
    "#evaluate price mode and distribution\n",
    "\n",
    "print('Price mode: ',np.sum(s_list_red['price'].mode()))\n",
    "s_list_red['price'].hist(bins=50)"
   ]
  },
  {
   "cell_type": "code",
   "execution_count": 30,
   "metadata": {},
   "outputs": [
    {
     "data": {
      "text/plain": [
       "count   3818.00000\n",
       "mean     127.97617\n",
       "std       90.25002\n",
       "min       20.00000\n",
       "25%       75.00000\n",
       "50%      100.00000\n",
       "75%      150.00000\n",
       "max     1000.00000\n",
       "Name: price, dtype: float64"
      ]
     },
     "execution_count": 30,
     "metadata": {},
     "output_type": "execute_result"
    }
   ],
   "source": [
    "s_list_red['price'].describe()"
   ]
  },
  {
   "cell_type": "markdown",
   "metadata": {},
   "source": [
    "##### Listing file analysis summary\n",
    "There are 3,318 listings.  Each listing has 92 columns that can be summarized broadly sumarized into categories of URL, host info, location, property description, cost, availability and reviews.\n",
    "\n",
    "We find that some of the columns are not of interest as they contain no varibility of values (either 1 or no values).  Additionally, we see that there are some data governance issues where free form text can semantically have the same value by be represented with different syntax (i.e. WA and wa)."
   ]
  },
  {
   "cell_type": "markdown",
   "metadata": {},
   "source": [
    "#### Reviews Data"
   ]
  },
  {
   "cell_type": "code",
   "execution_count": 31,
   "metadata": {},
   "outputs": [
    {
     "data": {
      "text/html": [
       "<div>\n",
       "<style scoped>\n",
       "    .dataframe tbody tr th:only-of-type {\n",
       "        vertical-align: middle;\n",
       "    }\n",
       "\n",
       "    .dataframe tbody tr th {\n",
       "        vertical-align: top;\n",
       "    }\n",
       "\n",
       "    .dataframe thead th {\n",
       "        text-align: right;\n",
       "    }\n",
       "</style>\n",
       "<table border=\"1\" class=\"dataframe\">\n",
       "  <thead>\n",
       "    <tr style=\"text-align: right;\">\n",
       "      <th></th>\n",
       "      <th>listing_id</th>\n",
       "      <th>id</th>\n",
       "      <th>date</th>\n",
       "      <th>reviewer_id</th>\n",
       "      <th>reviewer_name</th>\n",
       "      <th>comments</th>\n",
       "    </tr>\n",
       "  </thead>\n",
       "  <tbody>\n",
       "    <tr>\n",
       "      <th>count</th>\n",
       "      <td>84849.00000</td>\n",
       "      <td>84849.00000</td>\n",
       "      <td>84849</td>\n",
       "      <td>84849.00000</td>\n",
       "      <td>84849</td>\n",
       "      <td>84831</td>\n",
       "    </tr>\n",
       "    <tr>\n",
       "      <th>unique</th>\n",
       "      <td>nan</td>\n",
       "      <td>nan</td>\n",
       "      <td>1930</td>\n",
       "      <td>nan</td>\n",
       "      <td>14380</td>\n",
       "      <td>84136</td>\n",
       "    </tr>\n",
       "    <tr>\n",
       "      <th>top</th>\n",
       "      <td>nan</td>\n",
       "      <td>nan</td>\n",
       "      <td>2015-09-21 00:00:00</td>\n",
       "      <td>nan</td>\n",
       "      <td>David</td>\n",
       "      <td>The host canceled this reservation the day bef...</td>\n",
       "    </tr>\n",
       "    <tr>\n",
       "      <th>freq</th>\n",
       "      <td>nan</td>\n",
       "      <td>nan</td>\n",
       "      <td>580</td>\n",
       "      <td>nan</td>\n",
       "      <td>870</td>\n",
       "      <td>57</td>\n",
       "    </tr>\n",
       "    <tr>\n",
       "      <th>first</th>\n",
       "      <td>nan</td>\n",
       "      <td>nan</td>\n",
       "      <td>2009-06-07 00:00:00</td>\n",
       "      <td>nan</td>\n",
       "      <td>NaN</td>\n",
       "      <td>NaN</td>\n",
       "    </tr>\n",
       "    <tr>\n",
       "      <th>last</th>\n",
       "      <td>nan</td>\n",
       "      <td>nan</td>\n",
       "      <td>2016-01-03 00:00:00</td>\n",
       "      <td>nan</td>\n",
       "      <td>NaN</td>\n",
       "      <td>NaN</td>\n",
       "    </tr>\n",
       "    <tr>\n",
       "      <th>mean</th>\n",
       "      <td>3005067.19061</td>\n",
       "      <td>30587645.35656</td>\n",
       "      <td>NaN</td>\n",
       "      <td>17013006.64394</td>\n",
       "      <td>NaN</td>\n",
       "      <td>NaN</td>\n",
       "    </tr>\n",
       "    <tr>\n",
       "      <th>std</th>\n",
       "      <td>2472877.10956</td>\n",
       "      <td>16366130.19724</td>\n",
       "      <td>NaN</td>\n",
       "      <td>13537038.26508</td>\n",
       "      <td>NaN</td>\n",
       "      <td>NaN</td>\n",
       "    </tr>\n",
       "    <tr>\n",
       "      <th>min</th>\n",
       "      <td>4291.00000</td>\n",
       "      <td>3721.00000</td>\n",
       "      <td>NaN</td>\n",
       "      <td>15.00000</td>\n",
       "      <td>NaN</td>\n",
       "      <td>NaN</td>\n",
       "    </tr>\n",
       "    <tr>\n",
       "      <th>25%</th>\n",
       "      <td>794633.00000</td>\n",
       "      <td>17251274.00000</td>\n",
       "      <td>NaN</td>\n",
       "      <td>5053141.00000</td>\n",
       "      <td>NaN</td>\n",
       "      <td>NaN</td>\n",
       "    </tr>\n",
       "    <tr>\n",
       "      <th>50%</th>\n",
       "      <td>2488228.00000</td>\n",
       "      <td>32288093.00000</td>\n",
       "      <td>NaN</td>\n",
       "      <td>14134759.00000</td>\n",
       "      <td>NaN</td>\n",
       "      <td>NaN</td>\n",
       "    </tr>\n",
       "    <tr>\n",
       "      <th>75%</th>\n",
       "      <td>4694479.00000</td>\n",
       "      <td>44576477.00000</td>\n",
       "      <td>NaN</td>\n",
       "      <td>27624023.00000</td>\n",
       "      <td>NaN</td>\n",
       "      <td>NaN</td>\n",
       "    </tr>\n",
       "    <tr>\n",
       "      <th>max</th>\n",
       "      <td>10248139.00000</td>\n",
       "      <td>58736511.00000</td>\n",
       "      <td>NaN</td>\n",
       "      <td>52812740.00000</td>\n",
       "      <td>NaN</td>\n",
       "      <td>NaN</td>\n",
       "    </tr>\n",
       "  </tbody>\n",
       "</table>\n",
       "</div>"
      ],
      "text/plain": [
       "           listing_id             id                 date    reviewer_id  \\\n",
       "count     84849.00000    84849.00000                84849    84849.00000   \n",
       "unique            nan            nan                 1930            nan   \n",
       "top               nan            nan  2015-09-21 00:00:00            nan   \n",
       "freq              nan            nan                  580            nan   \n",
       "first             nan            nan  2009-06-07 00:00:00            nan   \n",
       "last              nan            nan  2016-01-03 00:00:00            nan   \n",
       "mean    3005067.19061 30587645.35656                  NaN 17013006.64394   \n",
       "std     2472877.10956 16366130.19724                  NaN 13537038.26508   \n",
       "min        4291.00000     3721.00000                  NaN       15.00000   \n",
       "25%      794633.00000 17251274.00000                  NaN  5053141.00000   \n",
       "50%     2488228.00000 32288093.00000                  NaN 14134759.00000   \n",
       "75%     4694479.00000 44576477.00000                  NaN 27624023.00000   \n",
       "max    10248139.00000 58736511.00000                  NaN 52812740.00000   \n",
       "\n",
       "       reviewer_name                                           comments  \n",
       "count          84849                                              84831  \n",
       "unique         14380                                              84136  \n",
       "top            David  The host canceled this reservation the day bef...  \n",
       "freq             870                                                 57  \n",
       "first            NaN                                                NaN  \n",
       "last             NaN                                                NaN  \n",
       "mean             NaN                                                NaN  \n",
       "std              NaN                                                NaN  \n",
       "min              NaN                                                NaN  \n",
       "25%              NaN                                                NaN  \n",
       "50%              NaN                                                NaN  \n",
       "75%              NaN                                                NaN  \n",
       "max              NaN                                                NaN  "
      ]
     },
     "execution_count": 31,
     "metadata": {},
     "output_type": "execute_result"
    }
   ],
   "source": [
    "s_rev.describe(include='all')"
   ]
  },
  {
   "cell_type": "code",
   "execution_count": 32,
   "metadata": {},
   "outputs": [],
   "source": [
    "'''\n",
    "note the reviews are from 6/7/2009 to 1/3/2016 where the bookings begin on 1/4/2017, \n",
    "and so all of these comments would have been available to each of the bookers.\n",
    "''';"
   ]
  },
  {
   "cell_type": "code",
   "execution_count": 33,
   "metadata": {},
   "outputs": [
    {
     "name": "stdout",
     "output_type": "stream",
     "text": [
      "Number of listing id:  3191\n",
      "Number of id:  84849\n"
     ]
    }
   ],
   "source": [
    "#evaluate uniqueness of id's \n",
    "print('Number of listing id: ', s_rev['listing_id'].nunique())\n",
    "print('Number of id: ', s_rev['id'].nunique())"
   ]
  },
  {
   "cell_type": "markdown",
   "metadata": {},
   "source": [
    "## Questions to answer\n",
    "    - What features contribute the the price, and does the separate cleaning constitute a hidden charge (i.e. does the true price really reflect the price + cleaning fee)\n",
    "    - What is most important for the overall rating (i.e. location, cleanliness, value, etc.)\n",
    "    - Do those who charge cleaning fees get better cleanliness reviews\n"
   ]
  },
  {
   "cell_type": "code",
   "execution_count": null,
   "metadata": {},
   "outputs": [],
   "source": []
  }
 ],
 "metadata": {
  "kernelspec": {
   "display_name": "Python 3",
   "language": "python",
   "name": "python3"
  },
  "language_info": {
   "codemirror_mode": {
    "name": "ipython",
    "version": 3
   },
   "file_extension": ".py",
   "mimetype": "text/x-python",
   "name": "python",
   "nbconvert_exporter": "python",
   "pygments_lexer": "ipython3",
   "version": "3.6.8"
  }
 },
 "nbformat": 4,
 "nbformat_minor": 2
}
